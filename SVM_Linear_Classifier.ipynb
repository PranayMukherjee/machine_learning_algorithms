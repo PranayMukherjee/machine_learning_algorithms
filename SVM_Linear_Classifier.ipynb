{
 "cells": [
  {
   "cell_type": "code",
   "execution_count": 12,
   "metadata": {
    "collapsed": false
   },
   "outputs": [],
   "source": [
    "                                                   #specifying the test and training set\n",
    "from numpy import *\n",
    "from sklearn.datasets import load_iris\n",
    "iris=load_iris()\n",
    "x=iris.data[0:100,:]\n",
    "y=iris.target[0:100]\n",
    "for i in range(100):\n",
    "    if (y[i]==0):\n",
    "        y[i]=-1\n",
    "from sklearn.cross_validation import train_test_split\n",
    "x_train,x_test,y_train,y_test=train_test_split(x,y,train_size=70,random_state=1000)\n"
   ]
  },
  {
   "cell_type": "code",
   "execution_count": 13,
   "metadata": {
    "collapsed": false
   },
   "outputs": [],
   "source": [
    "alpha=zeros(70)                     #initialization of lagrange multipliers, threshold and regularization parameter\n",
    "regularization_parameter=10^-5\n",
    "\n",
    "def kkt_checker(number):            #func showing whether a particular training example follows the KKT conditions\n",
    "    sum=0\n",
    "    beta=threshold()\n",
    "    for j in range(70):\n",
    "        sum=sum+alpha[j]*y_train[j]*dot(x_train[j],x_train[number])\n",
    "        sum=sum+beta\n",
    "        sum=sum*y_train[number]\n",
    "   \n",
    "    if(alpha[number]==0):\n",
    "        if(sum>=1):\n",
    "            return(1)\n",
    "        else:\n",
    "            return(0)\n",
    "        \n",
    "    if(alpha[number]==regularization_parameter):\n",
    "        if(sum<=1):\n",
    "            return(1)\n",
    "        else:\n",
    "            return(0)\n",
    "                \n",
    "    if(alpha[number]>0 and alpha[number]<regularization_parameter):\n",
    "        if(sum==1):\n",
    "            return(1)\n",
    "        else:\n",
    "            return(0)\n",
    "        \n",
    "def error(index):\n",
    "    value=0\n",
    "    add=0\n",
    "    intercept=threshold()\n",
    "    for i in range(70):\n",
    "        add=add+alpha[i]*y_train[i]*dot(x_train[i],x_train[index])\n",
    "    add=add+intercept\n",
    "    value=add-y_train[index]\n",
    "    return(value)\n",
    "\n",
    "\n",
    "    \n",
    "    \n"
   ]
  },
  {
   "cell_type": "code",
   "execution_count": 14,
   "metadata": {
    "collapsed": false
   },
   "outputs": [],
   "source": [
    "def selection_updation():                   #selection of alpha_1 and alpha_2 lagrange multipliers\n",
    "    alpha_1=0\n",
    "    alpha_2=0\n",
    "    for i in range(70):\n",
    "        if (kkt_checker(i)==0):\n",
    "            alpha_1=alpha[i]\n",
    "            break\n",
    "    result_1=y_train[i]\n",
    "    \n",
    "    j=random.randint(0,70)\n",
    "   \n",
    "    if(j==i):\n",
    "        j=random.randint(0,70)\n",
    "    alpha_2=alpha[j]\n",
    "    result_2=y_train[j]\n",
    "   \n",
    "    lower_bound,upper_bound=0,0\n",
    "    \n",
    "    if(result_1 != result_2):\n",
    "        lower_bound=max(0,alpha_2-alpha_1)\n",
    "        upper_bound=min(regularization_parameter,regularization_parameter+alpha_2-alpha_1)\n",
    "    else:\n",
    "        lower_bound=max(0,alpha_1+alpha_2-regularization_parameter)\n",
    "        upper_bound=min(regularization_parameter,alpha_1+alpha_2)\n",
    "        \n",
    "    alpha_2_old,alpha_1_old=alpha_2,alpha_1\n",
    "    alpha_2=alpha_2-(y_train[j]*(error(i)-error(j))/(2*dot(x_train[i],x_train[j])-dot(x_train[i],x_train[i])-dot(x_train[j],x_train[j])))   \n",
    "\n",
    "    \n",
    "    if(alpha_2>upper_bound):\n",
    "        alpha_2=upper_bound\n",
    "    elif(alpha_2<lower_bound):\n",
    "        alpha_2=lower_bound\n",
    "    elif(alpha_2>=lower_bound and alpha_2<=upper_bound):\n",
    "        alpha_2=alpha_2\n",
    "    \n",
    "    alpha_1=alpha_1+(y_train[i]*y_train[j]*(alpha_2_old-alpha_2))\n",
    "    alpha[i]=alpha_1\n",
    "    alpha[j]=alpha_2\n",
    "\n",
    "\n",
    "def theta():                                                 #the parameter W\n",
    "    add=0\n",
    "    for i in range(70):\n",
    "        add=add+(alpha[i]*y_train[i]*x_train[i])\n",
    "    return(add)    \n",
    "\n",
    "\n",
    "def threshold():                                            #the threshold parameter/intercept parameter ,b\n",
    "    value1=0\n",
    "    value2=0\n",
    "    parameter=theta()\n",
    "    for i in range(70):\n",
    "        if(y_train[i]==-1):\n",
    "            max1=dot(parameter,x_train[i])\n",
    "            if(max1>=value1):\n",
    "                value1=max1\n",
    "        if(y_train[i]==1):\n",
    "            min1=dot(parameter,x_train[i])\n",
    "            if(min1<=value2):\n",
    "                value2=min1\n",
    "    result=(value1+value2)/2\n",
    "    return(result)\n",
    "\n",
    "            \n",
    "def model(array):                                         #he_SVM_model\n",
    "    w=theta()\n",
    "    b=threshold()\n",
    "    value=dot(w,array)+b\n",
    "    if(value>=0):\n",
    "        return(-1)\n",
    "    elif(value<0):\n",
    "        return(1)\n",
    "    \n",
    "    \n",
    "    \n",
    "    \n",
    "\n",
    "    "
   ]
  },
  {
   "cell_type": "code",
   "execution_count": 15,
   "metadata": {
    "collapsed": false
   },
   "outputs": [
    {
     "name": "stdout",
     "output_type": "stream",
     "text": [
      "[ 1 -1  1  1 -1  1  1  1 -1 -1 -1  1  1  1 -1 -1  1 -1  1 -1 -1 -1  1  1  1\n",
      " -1  1  1 -1 -1]\n",
      "1\n",
      "-1\n",
      "1\n",
      "1\n",
      "-1\n",
      "1\n",
      "1\n",
      "1\n",
      "-1\n",
      "-1\n",
      "-1\n",
      "1\n",
      "1\n",
      "1\n",
      "-1\n",
      "-1\n",
      "1\n",
      "-1\n",
      "1\n",
      "-1\n",
      "-1\n",
      "-1\n",
      "1\n",
      "1\n",
      "1\n",
      "-1\n",
      "1\n",
      "1\n",
      "-1\n",
      "-1\n"
     ]
    }
   ],
   "source": [
    "for k in range(1400):\n",
    "    selection_updation()\n",
    "    #print(alpha)\n",
    "    #print(\"end of training\",k)\n",
    "print(y_test)\n",
    "for i in range(30):\n",
    "    print(model(x_test[i]))\n",
    "\n",
    "\n"
   ]
  },
  {
   "cell_type": "code",
   "execution_count": null,
   "metadata": {
    "collapsed": false
   },
   "outputs": [],
   "source": []
  },
  {
   "cell_type": "code",
   "execution_count": null,
   "metadata": {
    "collapsed": false
   },
   "outputs": [],
   "source": []
  },
  {
   "cell_type": "code",
   "execution_count": null,
   "metadata": {
    "collapsed": true
   },
   "outputs": [],
   "source": []
  }
 ],
 "metadata": {
  "kernelspec": {
   "display_name": "Python 3",
   "language": "python",
   "name": "python3"
  },
  "language_info": {
   "codemirror_mode": {
    "name": "ipython",
    "version": 3
   },
   "file_extension": ".py",
   "mimetype": "text/x-python",
   "name": "python",
   "nbconvert_exporter": "python",
   "pygments_lexer": "ipython3",
   "version": "3.5.3"
  }
 },
 "nbformat": 4,
 "nbformat_minor": 2
}
