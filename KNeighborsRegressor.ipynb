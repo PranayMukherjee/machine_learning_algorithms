{
 "cells": [
  {
   "cell_type": "code",
   "execution_count": 15,
   "metadata": {
    "collapsed": false
   },
   "outputs": [],
   "source": [
    "from sklearn.datasets import load_boston\n",
    "boston=load_boston()\n",
    "#print(boston.DESCR)"
   ]
  },
  {
   "cell_type": "code",
   "execution_count": 16,
   "metadata": {
    "collapsed": false
   },
   "outputs": [
    {
     "name": "stdout",
     "output_type": "stream",
     "text": [
      "(506, 13)\n",
      "(506,)\n"
     ]
    }
   ],
   "source": [
    "from sklearn.preprocessing import StandardScaler\n",
    "scaler=StandardScaler()\n",
    "scaler.fit(boston.data)\n",
    "boston_transformed=scaler.transform(boston.data)\n",
    "print(boston_transformed.shape)\n",
    "print(boston.target.shape)\n",
    "\n",
    "from sklearn.cross_validation import train_test_split\n",
    "x_train,x_test,y_train,y_test=train_test_split(boston.data,boston.target,train_size=0.75,random_state=1999)\n"
   ]
  },
  {
   "cell_type": "code",
   "execution_count": 26,
   "metadata": {
    "collapsed": true
   },
   "outputs": [],
   "source": [
    "n_neighbors=3\n",
    "import numpy as np\n",
    "\n",
    "def regressor(n_neighbors,array):\n",
    "    k=0\n",
    "    evaluator=np.zeros(len(x_train))\n",
    "    collector=np.zeros(n_neighbors)\n",
    "    for i in range(len(x_train)):\n",
    "        evaluator[i]=np.linalg.norm(array-x_train[i])\n",
    "    for i in range(len(evaluator)):\n",
    "        if((evaluator[i]==min(evaluator))&(k<n_neighbors)):\n",
    "            collector[k]=y_train[i]\n",
    "            k=k+1\n",
    "            evaluator[i]=100000000000\n",
    "    return(np.mean(collector))       "
   ]
  },
  {
   "cell_type": "code",
   "execution_count": 27,
   "metadata": {
    "collapsed": false
   },
   "outputs": [
    {
     "name": "stdout",
     "output_type": "stream",
     "text": [
      "[  8.4          6.86666667  10.6          5.8          5.7          7.93333333\n",
      "   6.36666667  18.83333333  16.66666667  22.06666667   9.6         22.5\n",
      "  24.9          9.03333333  12.83333333  16.66666667  14.8         24.46666667\n",
      "  14.26666667   6.4          6.8          6.66666667  14.1          6.2\n",
      "  14.26666667   5.83333333  18.63333333   7.7          8.36666667\n",
      "  13.96666667  16.03333333   4.53333333   5.66666667   8.1          4.76666667\n",
      "   1.66666667  15.8          4.43333333  14.6         24.43333333\n",
      "   4.53333333   7.          12.43333333  18.2         22.06666667\n",
      "   6.36666667  22.06666667  11.43333333   4.6          7.13333333\n",
      "  17.16666667  23.73333333  13.13333333   6.46666667   9.96666667   7.2\n",
      "   5.06666667  23.           4.53333333  22.53333333  21.76666667   9.3\n",
      "  24.76666667   6.83333333  29.8          6.3          7.66666667  25.9\n",
      "   7.93333333   7.23333333  10.06666667  12.83333333  16.66666667\n",
      "  12.06666667  38.7         16.9         12.16666667   6.76666667\n",
      "   6.26666667  11.1          6.7          9.33333333  11.66666667\n",
      "   4.73333333  10.66666667   8.2          8.4          6.7          6.86666667\n",
      "   7.2         13.8         13.13333333  22.13333333   2.1         25.03333333\n",
      "   6.26666667   7.23333333  12.43333333  10.8         15.46666667\n",
      "  20.63333333   7.33333333  13.1          9.73333333   7.23333333\n",
      "   5.13333333   8.23333333  14.5          9.6          4.5          7.\n",
      "   9.3         15.13333333   5.83333333   9.93333333  12.96666667\n",
      "  12.03333333   4.1         14.66666667   8.16666667  18.63333333\n",
      "  16.66666667  10.06666667   3.63333333  23.1          9.3         15.43333333]\n",
      "[ 25.   21.2  12.5  17.5  19.2  26.7  19.6  36.1  36.2  12.7  11.   32.7\n",
      "  33.4  15.   18.2  50.   20.1  41.7  24.4  22.8  18.3  28.4  29.8  18.9\n",
      "  26.2  18.3  24.4  23.6  31.5  17.2  28.   20.1  22.3  24.   11.7  10.4\n",
      "  16.8  14.   28.1  41.3  15.2  22.1  14.5  18.9  13.1  27.9  30.5   7.2\n",
      "  15.6  20.8  34.9  31.2  23.2  15.6  17.8  20.3  13.8  20.3   7.   29.6\n",
      "  19.1  15.   11.9  19.7  20.6  18.9  24.7  26.4  17.4  46.7  13.4  21.2\n",
      "  37.2  11.9  20.8  23.   48.8  22.   18.7  18.4  19.3  17.1  19.6  16.7\n",
      "  14.5  29.9  23.4  22.   21.1  16.2  19.9  22.   23.2   8.5  44.8  20.5\n",
      "  31.5  15.2  33.1  25.   29.1  23.9  23.3   8.3  17.7  17.8  17.9  22.9\n",
      "  16.1  13.2  16.6   8.8  25.   17.8  24.1  19.5  17.8  11.3  22.4  32.2\n",
      "  29.   33.8  11.8  15.   22.8  12.7   8.1]\n"
     ]
    }
   ],
   "source": [
    "prediction=np.zeros(len(x_test))\n",
    "for i in range(len(x_test)):\n",
    "    prediction[i]=regressor(n_neighbors,x_test[i])\n",
    "print(prediction)\n",
    "print(y_test)"
   ]
  },
  {
   "cell_type": "code",
   "execution_count": 28,
   "metadata": {
    "collapsed": false
   },
   "outputs": [
    {
     "data": {
      "image/png": "[encoded data removed]",
      "text/plain": [
       "<matplotlib.figure.Figure at 0x1f9462c0208>"
      ]
     },
     "metadata": {},
     "output_type": "display_data"
    }
   ],
   "source": [
    "import matplotlib.pyplot as plt\n",
    "plt.scatter(x_test[:,6],y_test,color='red')\n",
    "plt.scatter(x_test[:,6],prediction,color='cyan')\n",
    "plt.legend(['actual','predicted'])\n",
    "plt.show()\n"
   ]
  },
  {
   "cell_type": "code",
   "execution_count": null,
   "metadata": {
    "collapsed": true
   },
   "outputs": [],
   "source": []
  },
  {
   "cell_type": "code",
   "execution_count": null,
   "metadata": {
    "collapsed": true
   },
   "outputs": [],
   "source": []
  }
 ],
 "metadata": {
  "kernelspec": {
   "display_name": "Python 3",
   "language": "python",
   "name": "python3"
  },
  "language_info": {
   "codemirror_mode": {
    "name": "ipython",
    "version": 3
   },
   "file_extension": ".py",
   "mimetype": "text/x-python",
   "name": "python",
   "nbconvert_exporter": "python",
   "pygments_lexer": "ipython3",
   "version": "3.5.3"
  }
 },
 "nbformat": 4,
 "nbformat_minor": 2
}
