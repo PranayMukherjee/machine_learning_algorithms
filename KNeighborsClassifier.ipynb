{
 "cells": [
  {
   "cell_type": "code",
   "execution_count": 1,
   "metadata": {
    "collapsed": false
   },
   "outputs": [
    {
     "name": "stderr",
     "output_type": "stream",
     "text": [
      "E:\\Python _ML\\WinPython-64bit-3.5.3.0Qt5\\python-3.5.3.amd64\\lib\\site-packages\\sklearn\\cross_validation.py:44: DeprecationWarning: This module was deprecated in version 0.18 in favor of the model_selection module into which all the refactored classes and functions are moved. Also note that the interface of the new CV iterators are different from that of this module. This module will be removed in 0.20.\n",
      "  \"This module will be removed in 0.20.\", DeprecationWarning)\n"
     ]
    }
   ],
   "source": [
    "import numpy as np\n",
    "from sklearn.datasets import load_iris\n",
    "iris=load_iris()\n",
    "from sklearn.cross_validation import train_test_split\n",
    "x_train,x_test,y_train,y_test=train_test_split(iris.data,iris.target,train_size=0.75,random_state=2300)\n",
    "#print(x_train.shape)\n",
    "\n"
   ]
  },
  {
   "cell_type": "code",
   "execution_count": 2,
   "metadata": {
    "collapsed": false
   },
   "outputs": [],
   "source": [
    "n_neighbors=3\n",
    "\n",
    "def knn(n_neighbors,array):\n",
    "    evaluator=np.zeros(len(x_train))\n",
    "    collector=np.zeros(n_neighbors)\n",
    "    k=0\n",
    "    start=0\n",
    "    for i in range(len(x_train)):\n",
    "        evaluator[i]=np.linalg.norm(array-x_train[i])\n",
    "    for j in range(len(evaluator)):\n",
    "        if ((evaluator[j]==min(evaluator))&(k<n_neighbors)):\n",
    "            collector[k]=y_train[j]\n",
    "            k=k+1\n",
    "            evaluator[j]=100000000\n",
    "      \n",
    "    value=0\n",
    "    for j in range(n_neighbors):\n",
    "        counter=0\n",
    "        for i in range(n_neighbors):\n",
    "            if (collector[j]==collector[i]):\n",
    "                counter=counter+1\n",
    "        if(counter>value):\n",
    "            value=counter\n",
    "            classification=collector[j]\n",
    "    return(classification)\n",
    "\n",
    "\n"
   ]
  },
  {
   "cell_type": "code",
   "execution_count": 3,
   "metadata": {
    "collapsed": false
   },
   "outputs": [
    {
     "name": "stdout",
     "output_type": "stream",
     "text": [
      "[ 1.  0.  2.  0.  1.  2.  0.  0.  0.  2.  0.  0.  0.  0.  0.  0.  0.  0.\n",
      "  0.  0.  0.  1.  2.  0.  0.  0.  2.  2.  0.  1.  0.  0.  2.  1.  0.  0.\n",
      "  0.  0.]\n",
      "[1 2 2 2 1 2 1 0 0 2 0 2 0 0 1 0 0 0 2 0 0 1 2 0 0 0 1 2 0 1 0 2 2 1 1 1 0\n",
      " 0]\n"
     ]
    },
    {
     "data": {
      "text/plain": [
       "0.73684210526315785"
      ]
     },
     "execution_count": 3,
     "metadata": {},
     "output_type": "execute_result"
    }
   ],
   "source": [
    "output=np.zeros(len(y_test))\n",
    "for i in range(len(y_test)):\n",
    "    output[i]=knn(n_neighbors,x_test[i])\n",
    "print(output)\n",
    "print(y_test)\n",
    "np.mean(output==y_test)\n"
   ]
  },
  {
   "cell_type": "code",
   "execution_count": 4,
   "metadata": {
    "collapsed": false
   },
   "outputs": [
    {
     "data": {
      "text/plain": [
       "array([100000000,         1,         2,         3,         4,         5,\n",
       "               6,         7,         8])"
      ]
     },
     "execution_count": 4,
     "metadata": {},
     "output_type": "execute_result"
    }
   ],
   "source": [
    "x=np.arange(9)\n",
    "x[0]=100000000\n",
    "x"
   ]
  },
  {
   "cell_type": "code",
   "execution_count": null,
   "metadata": {
    "collapsed": true
   },
   "outputs": [],
   "source": []
  }
 ],
 "metadata": {
  "kernelspec": {
   "display_name": "Python 3",
   "language": "python",
   "name": "python3"
  },
  "language_info": {
   "codemirror_mode": {
    "name": "ipython",
    "version": 3
   },
   "file_extension": ".py",
   "mimetype": "text/x-python",
   "name": "python",
   "nbconvert_exporter": "python",
   "pygments_lexer": "ipython3",
   "version": "3.5.3"
  }
 },
 "nbformat": 4,
 "nbformat_minor": 2
}
