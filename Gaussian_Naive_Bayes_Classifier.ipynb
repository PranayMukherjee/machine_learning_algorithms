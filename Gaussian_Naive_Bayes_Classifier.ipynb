{
 "cells": [
  {
   "cell_type": "code",
   "execution_count": 2,
   "metadata": {
    "collapsed": false
   },
   "outputs": [
    {
     "name": "stdout",
     "output_type": "stream",
     "text": [
      "setosa= 42\n",
      "versicolour= 44\n",
      "virginica= 44\n"
     ]
    },
    {
     "name": "stderr",
     "output_type": "stream",
     "text": [
      "E:\\Python _ML\\WinPython-64bit-3.5.3.0Qt5\\python-3.5.3.amd64\\lib\\site-packages\\sklearn\\cross_validation.py:44: DeprecationWarning: This module was deprecated in version 0.18 in favor of the model_selection module into which all the refactored classes and functions are moved. Also note that the interface of the new CV iterators are different from that of this module. This module will be removed in 0.20.\n",
      "  \"This module will be removed in 0.20.\", DeprecationWarning)\n"
     ]
    }
   ],
   "source": [
    "from numpy import *                                #importing dataset and performing cross-validation\n",
    "from sklearn.datasets import load_iris\n",
    "iris=load_iris()\n",
    "from sklearn.cross_validation import train_test_split\n",
    "x_train,x_test,y_train,y_test=train_test_split(iris.data,iris.target,train_size=130,random_state=1000)\n",
    "setosa=0\n",
    "versicolour=0\n",
    "virginica=0\n",
    "for i in range(130):\n",
    "    if(y_train[i]==0):\n",
    "        setosa=setosa+1\n",
    "    elif(y_train[i]==1):\n",
    "        versicolour=versicolour+1\n",
    "    elif(y_train[i]==2):\n",
    "        virginica=virginica+1\n",
    "print(\"setosa=\",setosa)\n",
    "print(\"versicolour=\",versicolour)\n",
    "print(\"virginica=\",virginica)\n",
    "prob_setosa=setosa/130\n",
    "prob_versicolour=versicolour/130\n",
    "prob_virginica=virginica/130  \n",
    "from math import pi"
   ]
  },
  {
   "cell_type": "code",
   "execution_count": 11,
   "metadata": {
    "collapsed": false
   },
   "outputs": [],
   "source": [
    "def calc_mean(cls,target_training_array,feature):           #function calculating mean of a given feature in a particular class\n",
    "    if(cls==0):\n",
    "        num=42\n",
    "    elif(cls==1):\n",
    "        num=44\n",
    "    elif(cls==2):\n",
    "        num=44\n",
    "    array=zeros(num)\n",
    "    n=0\n",
    "    for i in range(130):\n",
    "        if(target_training_array[i]==cls):\n",
    "            array[n]=x_train[i,feature]\n",
    "            n=n+1\n",
    "    return(mean(array))\n",
    "\n",
    "\n",
    "def calc_var(cls,target_training_array,feature):    #function calculating the variance of a given feature of a particular class\n",
    "    if(cls==0):\n",
    "        num=42\n",
    "    elif(cls==1):\n",
    "        num=44\n",
    "    elif(cls==2):\n",
    "        num=44\n",
    "    array=zeros(num)\n",
    "    n=0\n",
    "    for i in range(130):\n",
    "        if(target_training_array[i]==cls):\n",
    "            array[n]=x_train[i,feature]\n",
    "            n=n+1\n",
    "    return(var(array))\n",
    "\n",
    "def prob_total(training_array,cls):               #calculating the probability of an example belonging to a given class\n",
    "    prob=1\n",
    "    for j in range(4):\n",
    "        prob=prob*exp(-((training_array[j]-calc_mean(cls,y_train,j))**2)/(2*calc_var(cls,y_train,j)))/sqrt(2*pi*calc_var(cls,y_train,j))\n",
    "    if(cls==0):\n",
    "        return(prob*prob_setosa)\n",
    "    elif(cls==1):\n",
    "        return(prob*prob_versicolour)\n",
    "    elif(cls==2):\n",
    "        return(prob*prob_virginica)\n",
    "\n",
    "def model(training_array):                     #returning the class with the largest probability\n",
    "    x=zeros(3)\n",
    "    cls=0\n",
    "    for i in range(3):\n",
    "        x[i]=prob_total(training_array,cls)\n",
    "        cls=cls+1\n",
    "    for i in range(3):\n",
    "        if(x[i]==max(x)):\n",
    "            return(i)        "
   ]
  },
  {
   "cell_type": "code",
   "execution_count": 12,
   "metadata": {
    "collapsed": false
   },
   "outputs": [
    {
     "name": "stdout",
     "output_type": "stream",
     "text": [
      "1\n",
      "0\n",
      "2\n",
      "2\n",
      "0\n",
      "0\n",
      "1\n",
      "1\n",
      "0\n",
      "2\n",
      "2\n",
      "1\n",
      "0\n",
      "0\n",
      "2\n",
      "1\n",
      "1\n",
      "1\n",
      "0\n",
      "0\n"
     ]
    }
   ],
   "source": [
    "for i in range(20):\n",
    "    print(model(x_test[i]))"
   ]
  },
  {
   "cell_type": "code",
   "execution_count": 5,
   "metadata": {
    "collapsed": false
   },
   "outputs": [
    {
     "name": "stdout",
     "output_type": "stream",
     "text": [
      "[1 0 2 2 0 0 1 1 0 2 2 1 0 0 2 1 2 1 0 0]\n"
     ]
    }
   ],
   "source": [
    "print(y_test)"
   ]
  },
  {
   "cell_type": "code",
   "execution_count": null,
   "metadata": {
    "collapsed": true
   },
   "outputs": [],
   "source": []
  }
 ],
 "metadata": {
  "kernelspec": {
   "display_name": "Python 3",
   "language": "python",
   "name": "python3"
  },
  "language_info": {
   "codemirror_mode": {
    "name": "ipython",
    "version": 3
   },
   "file_extension": ".py",
   "mimetype": "text/x-python",
   "name": "python",
   "nbconvert_exporter": "python",
   "pygments_lexer": "ipython3",
   "version": "3.5.3"
  }
 },
 "nbformat": 4,
 "nbformat_minor": 2
}
